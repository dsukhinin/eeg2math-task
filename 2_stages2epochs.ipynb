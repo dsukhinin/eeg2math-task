{
 "cells": [
  {
   "cell_type": "markdown",
   "id": "96722546-fe18-415a-8e62-4f35408b2f1c",
   "metadata": {},
   "source": [
    "# Convert stages to epochs "
   ]
  },
  {
   "cell_type": "code",
   "execution_count": null,
   "id": "fd53cd75",
   "metadata": {
    "scrolled": true
   },
   "outputs": [],
   "source": [
    "# Install a pip package in the current Jupyter kernel\n",
    "import sys\n",
    "import warnings\n",
    "warnings.filterwarnings(\"ignore\")\n",
    "import os\n",
    "import numpy as np\n",
    "import mne"
   ]
  },
  {
   "cell_type": "markdown",
   "id": "d4c396d6",
   "metadata": {},
   "source": [
    "## Global variables"
   ]
  },
  {
   "cell_type": "code",
   "execution_count": null,
   "id": "3b546bfc",
   "metadata": {},
   "outputs": [],
   "source": [
    "# CHANGE HERE \n",
    "SUBJ_NUM = 44\n",
    "\n",
    "# Type of the test (math / video)\n",
    "TASK_TYPE = 'math' \n",
    "\n",
    "# epoch duration in seconds\n",
    "epoch_dur = 3\n",
    "# epoch overlap in seconds, should be less than epoch_dur\n",
    "OVLP = 0\n",
    "\n",
    "# dataset dir and name \n",
    "\n",
    "TGT_DIR = 'data/'\n",
    "ds = 'ds02'\n"
   ]
  },
  {
   "cell_type": "code",
   "execution_count": null,
   "id": "f83967a7",
   "metadata": {},
   "outputs": [],
   "source": [
    "# Initialize path variables for main folders\n",
    "\n",
    "print(os.getcwd())\n",
    "\n",
    "if (SUBJ_NUM < 10):\n",
    "    subj_dir_name = '0'+str(SUBJ_NUM)+'_'+TASK_TYPE\n",
    "else:\n",
    "    subj_dir_name = str(SUBJ_NUM)+'_'+TASK_TYPE\n",
    "    \n",
    "root_dir_path = os.path.join(os.getcwd(), 'work_data', subj_dir_name)\n",
    "init_dir_path = os.path.join(root_dir_path, 'initial_data')\n",
    "raw_dir_path = os.path.join(root_dir_path, 'stages_raw')\n",
    "ep_dir_path = os.path.join(root_dir_path, 'stages_epochs')\n",
    "ft_dir_path = os.path.join(root_dir_path, 'features')\n",
    "\n",
    "print(init_dir_path)\n",
    "print(raw_dir_path)\n",
    "print(ep_dir_path)\n",
    "print(ft_dir_path)\n"
   ]
  },
  {
   "cell_type": "code",
   "execution_count": null,
   "id": "54c3b068",
   "metadata": {},
   "outputs": [],
   "source": [
    "# Create main folders if not exist\n",
    "\n",
    "if not os.path.exists(root_dir_path):\n",
    "    os.mkdir(root_dir_path)\n",
    "if not os.path.exists(init_dir_path):\n",
    "    os.mkdir(init_dir_path)\n",
    "if not os.path.exists(raw_dir_path):\n",
    "    os.mkdir(raw_dir_path)\n",
    "if not os.path.exists(ep_dir_path):\n",
    "    os.mkdir(ep_dir_path)\n",
    "if not os.path.exists(ft_dir_path):\n",
    "    os.mkdir(ft_dir_path)\n"
   ]
  },
  {
   "cell_type": "code",
   "execution_count": null,
   "id": "28d68807",
   "metadata": {},
   "outputs": [],
   "source": [
    "# Frequency bands\n",
    "\n",
    "bands = [(0.9, 4, 'Delta (0.9-4 Hz)', 'D'), (4, 8, 'Theta (4-8 Hz)', 'T'), (8, 14, 'Alpha (8-14 Hz)', 'A'), \n",
    "         (14, 25, 'Beta (14-25 Hz)', 'B'), (25, 40, 'Gamma (25-40 Hz)', 'G')]\n",
    "\n",
    "str_freq = [bands[i][3] for i in range(len(bands))]"
   ]
  },
  {
   "cell_type": "code",
   "execution_count": null,
   "id": "58b67143",
   "metadata": {},
   "outputs": [],
   "source": [
    "# Localization by scalp regions\n",
    "\n",
    "regions = [(['Fp1','Fp2'], 'Fp', 'Pre-frontal'), (['F7','F3','FC5'], 'LF', 'Left Frontal'), \n",
    "           (['Fz','FC1','FC2'], 'MF', 'Midline Frontal'), (['F4','F8','FC6'], 'RF', 'Right Frontal'),\n",
    "           (['T7','CP5','P7'], 'LT', 'Left Temporal'), (['T8','CP6','P8'], 'RT', 'Right Temporal'), \n",
    "           (['C3','Cz','C4'], 'Cen', 'Central'), (['P3','Pz','P4','CP1','CP2'], 'Par', 'Parietal'), \n",
    "           (['O1','Oz','O2'], 'Occ', 'Occipital')]\n",
    "\n",
    "SLICE_LEN = 10 #number of epochs to measure physiological features, coherence and PLV\n",
    "\n",
    "n_freq = len(str_freq)\n",
    "n_regions = len(regions)\n"
   ]
  },
  {
   "cell_type": "markdown",
   "id": "33d905f2",
   "metadata": {},
   "source": [
    "# Loading raw data"
   ]
  },
  {
   "cell_type": "code",
   "execution_count": null,
   "id": "32ef74ab",
   "metadata": {},
   "outputs": [],
   "source": [
    "# Loading filtered and cropped raw data & stage_types\n",
    "raw_dir_path = os.path.join(root_dir_path, 'stages_raw')\n",
    "\n",
    "# Stage types\n",
    "stage_types = np.loadtxt(os.path.join(raw_dir_path, 'stage_types.txt'), dtype=int)\n",
    "\n",
    "# Initialize n_stages & n_types\n",
    "n_stages = len(stage_types)\n",
    "n_types = len(np.unique(stage_types))\n",
    "\n",
    "# Loading stages_raw data\n",
    "stages_raw = []\n",
    "for _st in range(n_stages):\n",
    "    stages_raw.append(mne.io.read_raw_fif(os.path.join(raw_dir_path, 'st_'+str(_st+1)+'_raw.fif')))\n",
    "    print(stages_raw[_st].get_data().shape)\n",
    "\n",
    "baseline_main_raw = mne.io.read_raw_fif(os.path.join(raw_dir_path, 'bl_main_raw.fif'))\n",
    "\n",
    "# Global variables\n",
    "samp_rate = baseline_main_raw.info['sfreq']\n",
    "ch_names = baseline_main_raw.copy().pick_types(eeg=True).ch_names\n",
    "n_channels = len(ch_names)\n",
    "print(n_channels, ch_names)\n"
   ]
  },
  {
   "cell_type": "markdown",
   "id": "08bd83bc",
   "metadata": {},
   "source": [
    "# Epoching data"
   ]
  },
  {
   "cell_type": "code",
   "execution_count": null,
   "id": "dd941d6e",
   "metadata": {
    "scrolled": true
   },
   "outputs": [],
   "source": [
    "# Epochs by fixed length events\n",
    "\n",
    "kwargs = dict(baseline=None, tmin=-epoch_dur/2, tmax=epoch_dur/2-1/samp_rate, picks='eeg', preload=True)\n",
    "\n",
    "st_epoch_events = []\n",
    "stages_epochs = []\n",
    "st_types_list = []\n",
    "\n",
    "for _st in range(n_stages):\n",
    "    st_epoch_events.append(mne.make_fixed_length_events(stages_raw[_st], start=0.5, duration=epoch_dur, overlap=OVLP))#, first_samp=True))#, overlap=0.2)\n",
    "    stages_epochs.append(mne.Epochs(stages_raw[_st], st_epoch_events[_st].astype(int), **kwargs))\n",
    "    st_types_list += [stage_types[_st]]*len(stages_epochs[_st])\n",
    "    \n",
    "    print(stages_epochs[_st].get_data().shape)\n",
    "\n",
    "epochs_st_all = mne.concatenate_epochs(stages_epochs, add_offset=False)\n"
   ]
  },
  {
   "cell_type": "markdown",
   "id": "d2835e30",
   "metadata": {},
   "source": [
    "## Saving ..."
   ]
  },
  {
   "cell_type": "code",
   "execution_count": null,
   "id": "69d1336a-46b0-469d-a53f-f7af139b633b",
   "metadata": {},
   "outputs": [],
   "source": [
    "tgt_fld = os.path.join(os.getcwd(), TGT_DIR, subj_dir_name, ds)\n",
    "\n",
    "if not os.path.exists(tgt_fld):\n",
    "    os.makedirs(tgt_fld, exist_ok=False)\n",
    "\n",
    "np.save(os.path.join(tgt_fld, 'x.npy'), epochs_st_all.get_data())\n",
    "np.save(os.path.join(tgt_fld, 'y.npy'), st_types_list)"
   ]
  },
  {
   "cell_type": "code",
   "execution_count": null,
   "id": "0643522a-8eb7-4d45-8226-ebbe240d4076",
   "metadata": {},
   "outputs": [],
   "source": [
    "print(\"processed\", subj_dir_name)\n",
    "exit()"
   ]
  }
 ],
 "metadata": {
  "kernelspec": {
   "display_name": "Python 3 (ipykernel)",
   "language": "python",
   "name": "python3"
  },
  "language_info": {
   "codemirror_mode": {
    "name": "ipython",
    "version": 3
   },
   "file_extension": ".py",
   "mimetype": "text/x-python",
   "name": "python",
   "nbconvert_exporter": "python",
   "pygments_lexer": "ipython3",
   "version": "3.10.8"
  }
 },
 "nbformat": 4,
 "nbformat_minor": 5
}
