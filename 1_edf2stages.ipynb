{
 "cells": [
  {
   "cell_type": "markdown",
   "id": "6d2fe96a-d3be-42ce-a268-92ea8f983339",
   "metadata": {},
   "source": [
    "## EDF file to stages conversion "
   ]
  },
  {
   "cell_type": "code",
   "execution_count": 1,
   "id": "fd53cd75",
   "metadata": {
    "scrolled": true
   },
   "outputs": [],
   "source": [
    "import sys"
   ]
  },
  {
   "cell_type": "code",
   "execution_count": 2,
   "id": "8438b661",
   "metadata": {},
   "outputs": [],
   "source": [
    "import warnings\n",
    "warnings.filterwarnings(\"ignore\")"
   ]
  },
  {
   "cell_type": "code",
   "execution_count": 3,
   "id": "2f9d7641",
   "metadata": {},
   "outputs": [],
   "source": [
    "import os\n",
    "import numpy as np\n",
    "import mne"
   ]
  },
  {
   "cell_type": "code",
   "execution_count": 4,
   "id": "3b546bfc",
   "metadata": {},
   "outputs": [],
   "source": [
    "# CHANGE HERE\n",
    "SUBJ_NUM = 44\n",
    "\n",
    "# Type of the test (math / video)\n",
    "TEST_TYPE = 'math' \n"
   ]
  },
  {
   "cell_type": "code",
   "execution_count": 5,
   "id": "f83967a7",
   "metadata": {},
   "outputs": [
    {
     "name": "stdout",
     "output_type": "stream",
     "text": [
      "/home/user/common/dsukhinin/eeg3/Huawei\n",
      "/home/user/common/dsukhinin/eeg3/Huawei/work_data/44_math/initial_data\n",
      "/home/user/common/dsukhinin/eeg3/Huawei/work_data/44_math/stages_raw\n",
      "/home/user/common/dsukhinin/eeg3/Huawei/work_data/44_math/stages_epochs\n",
      "/home/user/common/dsukhinin/eeg3/Huawei/work_data/44_math/features\n"
     ]
    }
   ],
   "source": [
    "# Initalize path variables for main folders\n",
    "\n",
    "print(os.getcwd())\n",
    "\n",
    "if (SUBJ_NUM < 10):\n",
    "    subj_dir_name = '0'+str(SUBJ_NUM)+'_'+TEST_TYPE\n",
    "else:\n",
    "    subj_dir_name = str(SUBJ_NUM)+'_'+TEST_TYPE\n",
    "    \n",
    "root_dir_path = os.path.join(os.getcwd(), 'work_data', subj_dir_name)\n",
    "init_dir_path = os.path.join(root_dir_path, 'initial_data')\n",
    "raw_dir_path = os.path.join(root_dir_path, 'stages_raw')\n",
    "ep_dir_path = os.path.join(root_dir_path, 'stages_epochs')\n",
    "ft_dir_path = os.path.join(root_dir_path, 'features')\n",
    "\n",
    "print(init_dir_path)\n",
    "print(raw_dir_path)\n",
    "print(ep_dir_path)\n",
    "print(ft_dir_path)\n"
   ]
  },
  {
   "cell_type": "code",
   "execution_count": 6,
   "id": "54c3b068",
   "metadata": {},
   "outputs": [],
   "source": [
    "# Create main folders if not exist\n",
    "\n",
    "if not os.path.exists(root_dir_path):\n",
    "    os.mkdir(root_dir_path)\n",
    "if not os.path.exists(init_dir_path):\n",
    "    os.mkdir(init_dir_path)\n",
    "if not os.path.exists(raw_dir_path):\n",
    "    os.mkdir(raw_dir_path)\n",
    "if not os.path.exists(ep_dir_path):\n",
    "    os.mkdir(ep_dir_path)\n",
    "if not os.path.exists(ft_dir_path):\n",
    "    os.mkdir(ft_dir_path)\n"
   ]
  },
  {
   "cell_type": "code",
   "execution_count": 7,
   "id": "28d68807",
   "metadata": {},
   "outputs": [],
   "source": [
    "# Frequency bands\n",
    "\n",
    "bands = [(0.9, 4, 'Delta (0.9-4 Hz)', 'D'), (4, 8, 'Theta (4-8 Hz)', 'T'), (8, 14, 'Alpha (8-14 Hz)', 'A'), \n",
    "         (14, 25, 'Beta (14-25 Hz)', 'B'), (25, 40, 'Gamma (25-40 Hz)', 'G')]\n",
    "\n",
    "str_freq = [bands[i][3] for i in range(len(bands))]"
   ]
  },
  {
   "cell_type": "code",
   "execution_count": 8,
   "id": "58b67143",
   "metadata": {},
   "outputs": [],
   "source": [
    "# Localization by scalp regions\n",
    "\n",
    "regions = [(['Fp1','Fp2'], 'Fp', 'Pre-frontal'), (['F7','F3','FC5'], 'LF', 'Left Frontal'), \n",
    "           (['Fz','FC1','FC2'], 'MF', 'Midline Frontal'), (['F4','F8','FC6'], 'RF', 'Right Frontal'),\n",
    "           (['T7','CP5','P7'], 'LT', 'Left Temporal'), (['T8','CP6','P8'], 'RT', 'Right Temporal'), \n",
    "           (['C3','Cz','C4'], 'Cen', 'Central'), (['P3','Pz','P4','CP1','CP2'], 'Par', 'Parietal'), \n",
    "           (['O1','Oz','O2'], 'Occ', 'Occipital')]\n",
    "\n",
    "SLICE_LEN = 10 #number of epochs to measure physiological features, coherence and PLV\n",
    "\n",
    "n_freq = len(str_freq)\n",
    "n_regions = len(regions)\n"
   ]
  },
  {
   "cell_type": "markdown",
   "id": "3b469e66",
   "metadata": {},
   "source": [
    "# Loading data"
   ]
  },
  {
   "cell_type": "code",
   "execution_count": 9,
   "id": "fa18b5d9",
   "metadata": {
    "scrolled": true
   },
   "outputs": [
    {
     "name": "stdout",
     "output_type": "stream",
     "text": [
      "/home/user/common/dsukhinin/eeg3/Huawei/work_data/44_math/initial_data/44_math-edf.edf\n",
      "Extracting EDF parameters from /home/user/common/dsukhinin/eeg3/Huawei/work_data/44_math-edf.edf...\n",
      "EDF file detected\n",
      "Setting channel info structure...\n",
      "Creating raw.info structure...\n",
      "Reading 0 ... 2342499  =      0.000 ...  4684.998 secs...\n"
     ]
    },
    {
     "data": {
      "text/html": [
       "<table class=\"table table-hover table-striped table-sm table-responsive small\">\n",
       "    <tr>\n",
       "        <th>Measurement date</th>\n",
       "        \n",
       "        <td>May 05, 2023  12:06:59 GMT</td>\n",
       "        \n",
       "    </tr>\n",
       "    <tr>\n",
       "        <th>Experimenter</th>\n",
       "        \n",
       "        <td>Unknown</td>\n",
       "        \n",
       "    </tr>\n",
       "        <th>Participant</th>\n",
       "        \n",
       "        <td>Unknown</td>\n",
       "        \n",
       "    </tr>\n",
       "    <tr>\n",
       "        <th>Digitized points</th>\n",
       "        \n",
       "        <td>31 points</td>\n",
       "        \n",
       "    </tr>\n",
       "    <tr>\n",
       "        <th>Good channels</th>\n",
       "        <td>28 EEG, 2 EOG, 7 BIO</td>\n",
       "    </tr>\n",
       "    <tr>\n",
       "        <th>Bad channels</th>\n",
       "        <td>None</td>\n",
       "    </tr>\n",
       "    <tr>\n",
       "        <th>EOG channels</th>\n",
       "        <td>HEOG, VEOG</td>\n",
       "    </tr>\n",
       "    <tr>\n",
       "        <th>ECG channels</th>\n",
       "        <td>Not available</td>\n",
       "    \n",
       "    <tr>\n",
       "        <th>Sampling frequency</th>\n",
       "        <td>500.00 Hz</td>\n",
       "    </tr>\n",
       "    \n",
       "    \n",
       "    <tr>\n",
       "        <th>Highpass</th>\n",
       "        <td>0.00 Hz</td>\n",
       "    </tr>\n",
       "    \n",
       "    \n",
       "    <tr>\n",
       "        <th>Lowpass</th>\n",
       "        <td>250.00 Hz</td>\n",
       "    </tr>\n",
       "    \n",
       "    \n",
       "    \n",
       "    <tr>\n",
       "        <th>Filenames</th>\n",
       "        <td>44_math-edf.edf</td>\n",
       "    </tr>\n",
       "    \n",
       "    <tr>\n",
       "        <th>Duration</th>\n",
       "        <td>01:18:05 (HH:MM:SS)</td>\n",
       "    </tr>\n",
       "</table>"
      ],
      "text/plain": [
       "<RawEDF | 44_math-edf.edf, 37 x 2342500 (4685.0 s), ~661.3 MB, data loaded>"
      ]
     },
     "execution_count": 9,
     "metadata": {},
     "output_type": "execute_result"
    }
   ],
   "source": [
    "# Load and analise original EEG and biological data\n",
    "\n",
    "EOG_ch = ['HEOG', 'VEOG']\n",
    "ECG_ch = ['heartrate']\n",
    "resp_ch = ['respiratory']\n",
    "marker_ch = ['marker']\n",
    "zygomat_ch = ['zygomaticus', 'corrugator']\n",
    "skincond_ch = ['skinconductance']\n",
    "corrug_ch = ['corrugator']\n",
    "\n",
    "# Compose initial data edf-filename\n",
    "edf_fname = str(SUBJ_NUM)+'_'+TEST_TYPE+'-edf.edf'\n",
    "#edf_fname = str(SUBJ_NUM)+'_'+TEST_TYPE+'.vhdr'\n",
    "edf_file_path = os.path.join(init_dir_path, edf_fname)\n",
    "print(edf_file_path)\n",
    "\n",
    "# Load data\n",
    "data_raw = mne.io.read_raw_edf(os.path.join(os.getcwd(), 'work_data', edf_fname), preload=True)\n",
    "\n",
    "samp_rate = data_raw.info['sfreq']\n",
    "\n",
    "\n",
    "# Set channel types\n",
    "change_types = {'HEOG':'eog', 'VEOG':'eog', 'heartrate':'bio', 'respiratory':'bio', 'zygomaticus':'bio', 'corrugator':'bio',\n",
    "                'skinconductance':'bio', 'Photosensor':'bio', 'Sync':'bio'}\n",
    "data_raw.set_channel_types(change_types)\n",
    "\n",
    "#data_raw.drop_channels(['marker'])\n",
    "data_raw.rename_channels({'FP2':'Fp2'})\n",
    "\n",
    "data_raw.set_montage('standard_1020')\n"
   ]
  },
  {
   "cell_type": "code",
   "execution_count": 10,
   "id": "86c1f153-e9e4-4fe2-8f41-0c3d52bee2cf",
   "metadata": {},
   "outputs": [
    {
     "data": {
      "text/html": [
       "<table class=\"table table-hover table-striped table-sm table-responsive small\">\n",
       "    <tr>\n",
       "        <th>Measurement date</th>\n",
       "        \n",
       "        <td>May 05, 2023  12:06:59 GMT</td>\n",
       "        \n",
       "    </tr>\n",
       "    <tr>\n",
       "        <th>Experimenter</th>\n",
       "        \n",
       "        <td>Unknown</td>\n",
       "        \n",
       "    </tr>\n",
       "        <th>Participant</th>\n",
       "        \n",
       "        <td>Unknown</td>\n",
       "        \n",
       "    </tr>\n",
       "    <tr>\n",
       "        <th>Digitized points</th>\n",
       "        \n",
       "        <td>31 points</td>\n",
       "        \n",
       "    </tr>\n",
       "    <tr>\n",
       "        <th>Good channels</th>\n",
       "        <td>28 EEG, 2 EOG, 7 BIO</td>\n",
       "    </tr>\n",
       "    <tr>\n",
       "        <th>Bad channels</th>\n",
       "        <td>None</td>\n",
       "    </tr>\n",
       "    <tr>\n",
       "        <th>EOG channels</th>\n",
       "        <td>HEOG, VEOG</td>\n",
       "    </tr>\n",
       "    <tr>\n",
       "        <th>ECG channels</th>\n",
       "        <td>Not available</td>\n",
       "    \n",
       "    <tr>\n",
       "        <th>Sampling frequency</th>\n",
       "        <td>500.00 Hz</td>\n",
       "    </tr>\n",
       "    \n",
       "    \n",
       "    <tr>\n",
       "        <th>Highpass</th>\n",
       "        <td>0.00 Hz</td>\n",
       "    </tr>\n",
       "    \n",
       "    \n",
       "    <tr>\n",
       "        <th>Lowpass</th>\n",
       "        <td>250.00 Hz</td>\n",
       "    </tr>\n",
       "    \n",
       "    \n",
       "    \n",
       "    <tr>\n",
       "        <th>Filenames</th>\n",
       "        <td>44_math-edf.edf</td>\n",
       "    </tr>\n",
       "    \n",
       "    <tr>\n",
       "        <th>Duration</th>\n",
       "        <td>01:09:52 (HH:MM:SS)</td>\n",
       "    </tr>\n",
       "</table>"
      ],
      "text/plain": [
       "<RawEDF | 44_math-edf.edf, 37 x 2095898 (4191.8 s), ~591.7 MB, data loaded>"
      ]
     },
     "execution_count": 10,
     "metadata": {},
     "output_type": "execute_result"
    }
   ],
   "source": [
    "annot = data_raw.annotations.copy()\n",
    "data_raw.crop(tmin=annot.onset[1], tmax=annot.onset[-1]+1)"
   ]
  },
  {
   "cell_type": "code",
   "execution_count": 11,
   "id": "11cf6d0d-76f2-4bec-9e3f-b573b349b6f9",
   "metadata": {},
   "outputs": [
    {
     "name": "stdout",
     "output_type": "stream",
     "text": [
      "321\n"
     ]
    }
   ],
   "source": [
    "ann = data_raw.annotations.copy()\n",
    "print(len(ann))\n",
    "\n",
    "del_ann_ind = []\n",
    "for i in range(len(ann)):\n",
    "    if (ann[i]['description'] in [ 'New Segment', 'S  8', 'S 66', 'S 69', 'S 63', 'S 77', 'S 79', 'S 73']):\n",
    "        del_ann_ind += [i]\n",
    "data_raw.annotations.delete(del_ann_ind)"
   ]
  },
  {
   "cell_type": "code",
   "execution_count": 12,
   "id": "29bfbfb4",
   "metadata": {},
   "outputs": [
    {
     "name": "stdout",
     "output_type": "stream",
     "text": [
      "S  7 S 70 223.09\n",
      "S  6 S 60 180.686\n",
      "S  5 S 50 180.002\n",
      "S  6 S 60 191.952\n",
      "S  7 S 70 189.086\n",
      "S  5 S 50 180.002\n",
      "S  6 S 60 192.856\n",
      "S  7 S 70 180.602\n",
      "S  5 S 50 180.002\n",
      "S  6 S 60 184.218\n",
      "S  7 S 70 203.254\n",
      "S  5 S 50 180.004\n",
      "S  7 S 70 182.604\n",
      "S  5 S 50 180.002\n",
      "S  6 S 60 195.836\n",
      "S  7 S 70 182.12\n",
      "S  6 S 60 194.872\n",
      "S  5 S 50 180.004\n"
     ]
    }
   ],
   "source": [
    "# Cropping data (event-related)\n",
    "annot = data_raw.annotations.copy()\n",
    "annot_onsets = annot.onset - data_raw.first_time\n",
    "\n",
    "baseline_main_raw = data_raw.copy().crop(tmin=annot_onsets[0], tmax=annot_onsets[1])\n",
    "\n",
    "# Stages & stage baselines\n",
    "stages_raw = []\n",
    "stage_types = []\n",
    "for i in range(len(annot)):\n",
    "    \n",
    "    if (annot.description[i] in {'S  5', 'S  6', 'S  7'}):\n",
    "\n",
    "        stages_raw.append(data_raw.copy().crop(tmin=annot_onsets[i], tmax=annot_onsets[i+1]))\n",
    "        stage_types.append(int(annot.description[i][-1]))\n",
    "        print(annot.description[i], annot.description[i+1], \n",
    "              stages_raw[-1].n_times/samp_rate)\n",
    "         \n",
    "# Initialize n_stages\n",
    "n_stages = len(stage_types)"
   ]
  },
  {
   "cell_type": "code",
   "execution_count": 13,
   "id": "f5a64552",
   "metadata": {
    "scrolled": true
   },
   "outputs": [
    {
     "name": "stdout",
     "output_type": "stream",
     "text": [
      "Overwriting existing file.\n",
      "Writing /home/user/common/dsukhinin/eeg3/Huawei/work_data/44_math/stages_raw/st_1_raw.fif\n",
      "Closing /home/user/common/dsukhinin/eeg3/Huawei/work_data/44_math/stages_raw/st_1_raw.fif\n",
      "[done]\n",
      "(37, 111545)\n",
      "Overwriting existing file.\n",
      "Writing /home/user/common/dsukhinin/eeg3/Huawei/work_data/44_math/stages_raw/st_2_raw.fif\n",
      "Closing /home/user/common/dsukhinin/eeg3/Huawei/work_data/44_math/stages_raw/st_2_raw.fif\n",
      "[done]\n",
      "(37, 90343)\n",
      "Overwriting existing file.\n",
      "Writing /home/user/common/dsukhinin/eeg3/Huawei/work_data/44_math/stages_raw/st_3_raw.fif\n",
      "Closing /home/user/common/dsukhinin/eeg3/Huawei/work_data/44_math/stages_raw/st_3_raw.fif\n",
      "[done]\n",
      "(37, 90001)\n",
      "Overwriting existing file.\n",
      "Writing /home/user/common/dsukhinin/eeg3/Huawei/work_data/44_math/stages_raw/st_4_raw.fif\n",
      "Closing /home/user/common/dsukhinin/eeg3/Huawei/work_data/44_math/stages_raw/st_4_raw.fif\n",
      "[done]\n",
      "(37, 95976)\n",
      "Overwriting existing file.\n",
      "Writing /home/user/common/dsukhinin/eeg3/Huawei/work_data/44_math/stages_raw/st_5_raw.fif\n",
      "Closing /home/user/common/dsukhinin/eeg3/Huawei/work_data/44_math/stages_raw/st_5_raw.fif\n",
      "[done]\n",
      "(37, 94543)\n",
      "Overwriting existing file.\n",
      "Writing /home/user/common/dsukhinin/eeg3/Huawei/work_data/44_math/stages_raw/st_6_raw.fif\n",
      "Closing /home/user/common/dsukhinin/eeg3/Huawei/work_data/44_math/stages_raw/st_6_raw.fif\n",
      "[done]\n",
      "(37, 90001)\n",
      "Overwriting existing file.\n",
      "Writing /home/user/common/dsukhinin/eeg3/Huawei/work_data/44_math/stages_raw/st_7_raw.fif\n",
      "Closing /home/user/common/dsukhinin/eeg3/Huawei/work_data/44_math/stages_raw/st_7_raw.fif\n",
      "[done]\n",
      "(37, 96428)\n",
      "Overwriting existing file.\n",
      "Writing /home/user/common/dsukhinin/eeg3/Huawei/work_data/44_math/stages_raw/st_8_raw.fif\n",
      "Closing /home/user/common/dsukhinin/eeg3/Huawei/work_data/44_math/stages_raw/st_8_raw.fif\n",
      "[done]\n",
      "(37, 90301)\n",
      "Overwriting existing file.\n",
      "Writing /home/user/common/dsukhinin/eeg3/Huawei/work_data/44_math/stages_raw/st_9_raw.fif\n",
      "Closing /home/user/common/dsukhinin/eeg3/Huawei/work_data/44_math/stages_raw/st_9_raw.fif\n",
      "[done]\n",
      "(37, 90001)\n",
      "Overwriting existing file.\n",
      "Writing /home/user/common/dsukhinin/eeg3/Huawei/work_data/44_math/stages_raw/st_10_raw.fif\n",
      "Closing /home/user/common/dsukhinin/eeg3/Huawei/work_data/44_math/stages_raw/st_10_raw.fif\n",
      "[done]\n",
      "(37, 92109)\n",
      "Overwriting existing file.\n",
      "Writing /home/user/common/dsukhinin/eeg3/Huawei/work_data/44_math/stages_raw/st_11_raw.fif\n",
      "Closing /home/user/common/dsukhinin/eeg3/Huawei/work_data/44_math/stages_raw/st_11_raw.fif\n",
      "[done]\n",
      "(37, 101627)\n",
      "Overwriting existing file.\n",
      "Writing /home/user/common/dsukhinin/eeg3/Huawei/work_data/44_math/stages_raw/st_12_raw.fif\n",
      "Closing /home/user/common/dsukhinin/eeg3/Huawei/work_data/44_math/stages_raw/st_12_raw.fif\n",
      "[done]\n",
      "(37, 90002)\n",
      "Overwriting existing file.\n",
      "Writing /home/user/common/dsukhinin/eeg3/Huawei/work_data/44_math/stages_raw/st_13_raw.fif\n",
      "Closing /home/user/common/dsukhinin/eeg3/Huawei/work_data/44_math/stages_raw/st_13_raw.fif\n",
      "[done]\n",
      "(37, 91302)\n",
      "Overwriting existing file.\n",
      "Writing /home/user/common/dsukhinin/eeg3/Huawei/work_data/44_math/stages_raw/st_14_raw.fif\n",
      "Closing /home/user/common/dsukhinin/eeg3/Huawei/work_data/44_math/stages_raw/st_14_raw.fif\n",
      "[done]\n",
      "(37, 90001)\n",
      "Overwriting existing file.\n",
      "Writing /home/user/common/dsukhinin/eeg3/Huawei/work_data/44_math/stages_raw/st_15_raw.fif\n",
      "Closing /home/user/common/dsukhinin/eeg3/Huawei/work_data/44_math/stages_raw/st_15_raw.fif\n",
      "[done]\n",
      "(37, 97918)\n",
      "Overwriting existing file.\n",
      "Writing /home/user/common/dsukhinin/eeg3/Huawei/work_data/44_math/stages_raw/st_16_raw.fif\n",
      "Closing /home/user/common/dsukhinin/eeg3/Huawei/work_data/44_math/stages_raw/st_16_raw.fif\n",
      "[done]\n",
      "(37, 91060)\n",
      "Overwriting existing file.\n",
      "Writing /home/user/common/dsukhinin/eeg3/Huawei/work_data/44_math/stages_raw/st_17_raw.fif\n",
      "Closing /home/user/common/dsukhinin/eeg3/Huawei/work_data/44_math/stages_raw/st_17_raw.fif\n",
      "[done]\n",
      "(37, 97436)\n",
      "Overwriting existing file.\n",
      "Writing /home/user/common/dsukhinin/eeg3/Huawei/work_data/44_math/stages_raw/st_18_raw.fif\n",
      "Closing /home/user/common/dsukhinin/eeg3/Huawei/work_data/44_math/stages_raw/st_18_raw.fif\n",
      "[done]\n",
      "(37, 90002)\n",
      "Overwriting existing file.\n",
      "Writing /home/user/common/dsukhinin/eeg3/Huawei/work_data/44_math/stages_raw/bl_main_raw.fif\n",
      "Closing /home/user/common/dsukhinin/eeg3/Huawei/work_data/44_math/stages_raw/bl_main_raw.fif\n",
      "[done]\n"
     ]
    }
   ],
   "source": [
    "# Saving filtered and cropped raw data\n",
    "\n",
    "# Initialize n_stages\n",
    "n_stages = len(stage_types)\n",
    "\n",
    "raw_dir_path = os.path.join(root_dir_path, 'stages_raw')\n",
    "if not os.path.exists(raw_dir_path):\n",
    "    os.mkdir(raw_dir_path)\n",
    "\n",
    "# Stage types\n",
    "np.savetxt(os.path.join(raw_dir_path, 'stage_types.txt'), stage_types)\n",
    "\n",
    "# Raw data\n",
    "for _st in range(n_stages):\n",
    "    stages_raw[_st].save(os.path.join(raw_dir_path, 'st_'+str(_st+1)+'_raw.fif'), overwrite=True)\n",
    "    print(stages_raw[_st].get_data().shape)\n",
    "\n",
    "baseline_main_raw.save(os.path.join(raw_dir_path, 'bl_main_raw.fif'), overwrite=True)\n"
   ]
  },
  {
   "cell_type": "code",
   "execution_count": 14,
   "id": "b3a2de37",
   "metadata": {},
   "outputs": [
    {
     "name": "stdout",
     "output_type": "stream",
     "text": [
      "processed 44_math\n"
     ]
    }
   ],
   "source": [
    "print(\"processed\", subj_dir_name)\n",
    "exit()"
   ]
  }
 ],
 "metadata": {
  "kernelspec": {
   "display_name": "Python 3 (ipykernel)",
   "language": "python",
   "name": "python3"
  },
  "language_info": {
   "codemirror_mode": {
    "name": "ipython",
    "version": 3
   },
   "file_extension": ".py",
   "mimetype": "text/x-python",
   "name": "python",
   "nbconvert_exporter": "python",
   "pygments_lexer": "ipython3",
   "version": "3.10.8"
  }
 },
 "nbformat": 4,
 "nbformat_minor": 5
}
