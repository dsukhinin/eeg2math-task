{
 "cells": [
  {
   "cell_type": "markdown",
   "id": "6d2fe96a-d3be-42ce-a268-92ea8f983339",
   "metadata": {},
   "source": [
    "## EDF file to stages conversion "
   ]
  },
  {
   "cell_type": "code",
   "execution_count": null,
   "id": "fd53cd75",
   "metadata": {
    "scrolled": true
   },
   "outputs": [],
   "source": [
    "import sys"
   ]
  },
  {
   "cell_type": "code",
   "execution_count": null,
   "id": "8438b661",
   "metadata": {},
   "outputs": [],
   "source": [
    "import warnings\n",
    "warnings.filterwarnings(\"ignore\")"
   ]
  },
  {
   "cell_type": "code",
   "execution_count": null,
   "id": "2f9d7641",
   "metadata": {},
   "outputs": [],
   "source": [
    "import os\n",
    "import numpy as np\n",
    "import mne"
   ]
  },
  {
   "cell_type": "code",
   "execution_count": null,
   "id": "3b546bfc",
   "metadata": {},
   "outputs": [],
   "source": [
    "# CHANGE HERE\n",
    "SUBJ_NUM = 44\n",
    "\n",
    "# Type of the test (math / video)\n",
    "TEST_TYPE = 'math' \n"
   ]
  },
  {
   "cell_type": "code",
   "execution_count": null,
   "id": "f83967a7",
   "metadata": {},
   "outputs": [],
   "source": [
    "# Initalize path variables for main folders\n",
    "\n",
    "print(os.getcwd())\n",
    "\n",
    "if (SUBJ_NUM < 10):\n",
    "    subj_dir_name = '0'+str(SUBJ_NUM)+'_'+TEST_TYPE\n",
    "else:\n",
    "    subj_dir_name = str(SUBJ_NUM)+'_'+TEST_TYPE\n",
    "    \n",
    "root_dir_path = os.path.join(os.getcwd(), 'work_data', subj_dir_name)\n",
    "init_dir_path = os.path.join(root_dir_path, 'initial_data')\n",
    "raw_dir_path = os.path.join(root_dir_path, 'stages_raw')\n",
    "ep_dir_path = os.path.join(root_dir_path, 'stages_epochs')\n",
    "ft_dir_path = os.path.join(root_dir_path, 'features')\n",
    "\n",
    "print(init_dir_path)\n",
    "print(raw_dir_path)\n",
    "print(ep_dir_path)\n",
    "print(ft_dir_path)\n"
   ]
  },
  {
   "cell_type": "code",
   "execution_count": null,
   "id": "54c3b068",
   "metadata": {},
   "outputs": [],
   "source": [
    "# Create main folders if not exist\n",
    "\n",
    "if not os.path.exists(root_dir_path):\n",
    "    os.mkdir(root_dir_path)\n",
    "if not os.path.exists(init_dir_path):\n",
    "    os.mkdir(init_dir_path)\n",
    "if not os.path.exists(raw_dir_path):\n",
    "    os.mkdir(raw_dir_path)\n",
    "if not os.path.exists(ep_dir_path):\n",
    "    os.mkdir(ep_dir_path)\n",
    "if not os.path.exists(ft_dir_path):\n",
    "    os.mkdir(ft_dir_path)\n"
   ]
  },
  {
   "cell_type": "code",
   "execution_count": null,
   "id": "28d68807",
   "metadata": {},
   "outputs": [],
   "source": [
    "# Frequency bands\n",
    "\n",
    "bands = [(0.9, 4, 'Delta (0.9-4 Hz)', 'D'), (4, 8, 'Theta (4-8 Hz)', 'T'), (8, 14, 'Alpha (8-14 Hz)', 'A'), \n",
    "         (14, 25, 'Beta (14-25 Hz)', 'B'), (25, 40, 'Gamma (25-40 Hz)', 'G')]\n",
    "\n",
    "str_freq = [bands[i][3] for i in range(len(bands))]"
   ]
  },
  {
   "cell_type": "code",
   "execution_count": null,
   "id": "58b67143",
   "metadata": {},
   "outputs": [],
   "source": [
    "# Localization by scalp regions\n",
    "\n",
    "regions = [(['Fp1','Fp2'], 'Fp', 'Pre-frontal'), (['F7','F3','FC5'], 'LF', 'Left Frontal'), \n",
    "           (['Fz','FC1','FC2'], 'MF', 'Midline Frontal'), (['F4','F8','FC6'], 'RF', 'Right Frontal'),\n",
    "           (['T7','CP5','P7'], 'LT', 'Left Temporal'), (['T8','CP6','P8'], 'RT', 'Right Temporal'), \n",
    "           (['C3','Cz','C4'], 'Cen', 'Central'), (['P3','Pz','P4','CP1','CP2'], 'Par', 'Parietal'), \n",
    "           (['O1','Oz','O2'], 'Occ', 'Occipital')]\n",
    "\n",
    "SLICE_LEN = 10 #number of epochs to measure physiological features, coherence and PLV\n",
    "\n",
    "n_freq = len(str_freq)\n",
    "n_regions = len(regions)\n"
   ]
  },
  {
   "cell_type": "markdown",
   "id": "3b469e66",
   "metadata": {},
   "source": [
    "# Loading data"
   ]
  },
  {
   "cell_type": "code",
   "execution_count": null,
   "id": "fa18b5d9",
   "metadata": {
    "scrolled": true
   },
   "outputs": [],
   "source": [
    "# Load and analise original EEG and biological data\n",
    "\n",
    "EOG_ch = ['HEOG', 'VEOG']\n",
    "ECG_ch = ['heartrate']\n",
    "resp_ch = ['respiratory']\n",
    "marker_ch = ['marker']\n",
    "zygomat_ch = ['zygomaticus', 'corrugator']\n",
    "skincond_ch = ['skinconductance']\n",
    "corrug_ch = ['corrugator']\n",
    "\n",
    "# Compose initial data edf-filename\n",
    "edf_fname = str(SUBJ_NUM)+'_'+TEST_TYPE+'-edf.edf'\n",
    "#edf_fname = str(SUBJ_NUM)+'_'+TEST_TYPE+'.vhdr'\n",
    "edf_file_path = os.path.join(init_dir_path, edf_fname)\n",
    "print(edf_file_path)\n",
    "\n",
    "# Load data\n",
    "data_raw = mne.io.read_raw_edf(os.path.join(os.getcwd(), 'work_data', edf_fname), preload=True)\n",
    "\n",
    "samp_rate = data_raw.info['sfreq']\n",
    "\n",
    "\n",
    "# Set channel types\n",
    "change_types = {'HEOG':'eog', 'VEOG':'eog', 'heartrate':'bio', 'respiratory':'bio', 'zygomaticus':'bio', 'corrugator':'bio',\n",
    "                'skinconductance':'bio', 'Photosensor':'bio', 'Sync':'bio'}\n",
    "data_raw.set_channel_types(change_types)\n",
    "\n",
    "#data_raw.drop_channels(['marker'])\n",
    "data_raw.rename_channels({'FP2':'Fp2'})\n",
    "\n",
    "data_raw.set_montage('standard_1020')\n"
   ]
  },
  {
   "cell_type": "code",
   "execution_count": null,
   "id": "86c1f153-e9e4-4fe2-8f41-0c3d52bee2cf",
   "metadata": {},
   "outputs": [],
   "source": [
    "annot = data_raw.annotations.copy()\n",
    "data_raw.crop(tmin=annot.onset[1], tmax=annot.onset[-1]+1)"
   ]
  },
  {
   "cell_type": "code",
   "execution_count": null,
   "id": "11cf6d0d-76f2-4bec-9e3f-b573b349b6f9",
   "metadata": {},
   "outputs": [],
   "source": [
    "ann = data_raw.annotations.copy()\n",
    "print(len(ann))\n",
    "\n",
    "del_ann_ind = []\n",
    "for i in range(len(ann)):\n",
    "    if (ann[i]['description'] in [ 'New Segment', 'S  8', 'S 66', 'S 69', 'S 63', 'S 77', 'S 79', 'S 73']):\n",
    "        del_ann_ind += [i]\n",
    "data_raw.annotations.delete(del_ann_ind)"
   ]
  },
  {
   "cell_type": "code",
   "execution_count": null,
   "id": "29bfbfb4",
   "metadata": {},
   "outputs": [],
   "source": [
    "# Cropping data (event-related)\n",
    "annot = data_raw.annotations.copy()\n",
    "annot_onsets = annot.onset - data_raw.first_time\n",
    "\n",
    "baseline_main_raw = data_raw.copy().crop(tmin=annot_onsets[0], tmax=annot_onsets[1])\n",
    "\n",
    "# Stages & stage baselines\n",
    "stages_raw = []\n",
    "stage_types = []\n",
    "for i in range(len(annot)):\n",
    "    \n",
    "    if (annot.description[i] in {'S  5', 'S  6', 'S  7'}):\n",
    "\n",
    "        stages_raw.append(data_raw.copy().crop(tmin=annot_onsets[i], tmax=annot_onsets[i+1]))\n",
    "        stage_types.append(int(annot.description[i][-1]))\n",
    "        print(annot.description[i], annot.description[i+1], \n",
    "              stages_raw[-1].n_times/samp_rate)\n",
    "         \n",
    "# Initialize n_stages\n",
    "n_stages = len(stage_types)"
   ]
  },
  {
   "cell_type": "code",
   "execution_count": null,
   "id": "f5a64552",
   "metadata": {
    "scrolled": true
   },
   "outputs": [],
   "source": [
    "# Saving filtered and cropped raw data\n",
    "\n",
    "# Initialize n_stages\n",
    "n_stages = len(stage_types)\n",
    "\n",
    "raw_dir_path = os.path.join(root_dir_path, 'stages_raw')\n",
    "if not os.path.exists(raw_dir_path):\n",
    "    os.mkdir(raw_dir_path)\n",
    "\n",
    "# Stage types\n",
    "np.savetxt(os.path.join(raw_dir_path, 'stage_types.txt'), stage_types)\n",
    "\n",
    "# Raw data\n",
    "for _st in range(n_stages):\n",
    "    stages_raw[_st].save(os.path.join(raw_dir_path, 'st_'+str(_st+1)+'_raw.fif'), overwrite=True)\n",
    "    print(stages_raw[_st].get_data().shape)\n",
    "\n",
    "baseline_main_raw.save(os.path.join(raw_dir_path, 'bl_main_raw.fif'), overwrite=True)\n"
   ]
  },
  {
   "cell_type": "code",
   "execution_count": null,
   "id": "b3a2de37",
   "metadata": {},
   "outputs": [],
   "source": [
    "print(\"processed\", subj_dir_name)\n",
    "exit()"
   ]
  }
 ],
 "metadata": {
  "kernelspec": {
   "display_name": "Python 3 (ipykernel)",
   "language": "python",
   "name": "python3"
  },
  "language_info": {
   "codemirror_mode": {
    "name": "ipython",
    "version": 3
   },
   "file_extension": ".py",
   "mimetype": "text/x-python",
   "name": "python",
   "nbconvert_exporter": "python",
   "pygments_lexer": "ipython3",
   "version": "3.10.8"
  }
 },
 "nbformat": 4,
 "nbformat_minor": 5
}
