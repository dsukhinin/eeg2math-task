{
 "cells": [
  {
   "cell_type": "code",
   "execution_count": null,
   "id": "4ddbfe0a-20dd-487a-b6ed-6ad846c0fae7",
   "metadata": {},
   "outputs": [],
   "source": [
    "import numpy as np\n",
    "import os "
   ]
  },
  {
   "cell_type": "code",
   "execution_count": null,
   "id": "6cf39cbb-643d-4511-a4af-bdd9a5fd2ff8",
   "metadata": {},
   "outputs": [],
   "source": [
    "def make_ds(subjects, ds, tgt_fld):\n",
    "    \n",
    "    ds_dirs = [((os.path.join(os.getcwd(), f'data/{i}_math/{ds}/')), i) for i in subjects ]\n",
    "    \n",
    "    for dsd, n in ds_dirs:\n",
    "        \n",
    "        tmpX = np.load(os.path.join(dsd, 'x.npy'), allow_pickle=True)\n",
    "\n",
    "        tmpY = np.load(os.path.join(dsd, 'y.npy'), allow_pickle=True)\n",
    "        \n",
    "        np.save(os.path.join(tgt_fld, f'{n}_y.npy'), tmpY)\n",
    "        \n",
    "        tmpX = np.swapaxes(tmpX, 1, 2)\n",
    "        \n",
    "        for i in range(tmpY.shape[0]):\n",
    "            \n",
    "            np.save(os.path.join(tgt_fld, f'x_{n}_{i}.npy'), tmpX[i])\n",
    "        \n",
    "        print(\"added: \", dsd, n)\n",
    "    \n"
   ]
  },
  {
   "cell_type": "code",
   "execution_count": null,
   "id": "c2d4c6dd-7e01-4569-97ed-17b5733a0546",
   "metadata": {},
   "outputs": [],
   "source": [
    "# select subjects to process\n",
    "subjects = [i for i in range(25, 45)]\n",
    "\n",
    "# select dataset variant (same as step 2)\n",
    "ds = 'ds01'\n",
    "    \n",
    "tgt = os.path.join(os.getcwd(), 'data/ds04_25-44_mix/')\n",
    "\n",
    "if not os.path.exists(tgt):\n",
    "    os.makedirs(tgt, exist_ok=False)\n",
    "    \n",
    "    \n",
    "make_ds(subjects, ds, tgt)"
   ]
  },
  {
   "cell_type": "code",
   "execution_count": null,
   "id": "8ac60108-33a3-438f-a6bc-553233c07993",
   "metadata": {},
   "outputs": [],
   "source": [
    "print(\"processed\")\n",
    "exit()"
   ]
  }
 ],
 "metadata": {
  "kernelspec": {
   "display_name": "Python 3 (ipykernel)",
   "language": "python",
   "name": "python3"
  },
  "language_info": {
   "codemirror_mode": {
    "name": "ipython",
    "version": 3
   },
   "file_extension": ".py",
   "mimetype": "text/x-python",
   "name": "python",
   "nbconvert_exporter": "python",
   "pygments_lexer": "ipython3",
   "version": "3.10.8"
  }
 },
 "nbformat": 4,
 "nbformat_minor": 5
}
