{
 "cells": [
  {
   "cell_type": "code",
   "execution_count": 1,
   "id": "4ddbfe0a-20dd-487a-b6ed-6ad846c0fae7",
   "metadata": {},
   "outputs": [],
   "source": [
    "import numpy as np\n",
    "import os "
   ]
  },
  {
   "cell_type": "code",
   "execution_count": 2,
   "id": "6cf39cbb-643d-4511-a4af-bdd9a5fd2ff8",
   "metadata": {},
   "outputs": [],
   "source": [
    "def make_ds(subjects, ds, tgt_fld):\n",
    "    \n",
    "    ds_dirs = [((os.path.join(os.getcwd(), f'data/{i}_math/{ds}/')), i) for i in subjects ]\n",
    "    \n",
    "    for dsd, n in ds_dirs:\n",
    "        \n",
    "        tmpX = np.load(os.path.join(dsd, 'x.npy'), allow_pickle=True)\n",
    "\n",
    "        tmpY = np.load(os.path.join(dsd, 'y.npy'), allow_pickle=True)\n",
    "        \n",
    "        np.save(os.path.join(tgt_fld, f'{n}_y.npy'), tmpY)\n",
    "        \n",
    "        tmpX = np.swapaxes(tmpX, 1, 2)\n",
    "        \n",
    "        for i in range(tmpY.shape[0]):\n",
    "            \n",
    "            np.save(os.path.join(tgt_fld, f'x_{n}_{i}.npy'), tmpX[i])\n",
    "        \n",
    "        print(\"added: \", dsd, n)\n",
    "    \n"
   ]
  },
  {
   "cell_type": "code",
   "execution_count": 3,
   "id": "c2d4c6dd-7e01-4569-97ed-17b5733a0546",
   "metadata": {},
   "outputs": [
    {
     "name": "stdout",
     "output_type": "stream",
     "text": [
      "[25, 26, 27, 28, 29, 30, 31, 32, 33, 34, 35, 36, 37, 38, 39, 40, 41, 42, 43, 44]\n",
      "(5463,)\n",
      "added:  /home/user/common/dsukhinin/eeg3/Huawei/data/25_math/ds04/ 25\n",
      "(5368,)\n",
      "added:  /home/user/common/dsukhinin/eeg3/Huawei/data/26_math/ds04/ 26\n",
      "(5472,)\n",
      "added:  /home/user/common/dsukhinin/eeg3/Huawei/data/27_math/ds04/ 27\n",
      "(5426,)\n",
      "added:  /home/user/common/dsukhinin/eeg3/Huawei/data/28_math/ds04/ 28\n",
      "(5416,)\n",
      "added:  /home/user/common/dsukhinin/eeg3/Huawei/data/29_math/ds04/ 29\n",
      "(5449,)\n",
      "added:  /home/user/common/dsukhinin/eeg3/Huawei/data/30_math/ds04/ 30\n",
      "(5399,)\n",
      "added:  /home/user/common/dsukhinin/eeg3/Huawei/data/31_math/ds04/ 31\n",
      "(5408,)\n",
      "added:  /home/user/common/dsukhinin/eeg3/Huawei/data/32_math/ds04/ 32\n",
      "(5419,)\n",
      "added:  /home/user/common/dsukhinin/eeg3/Huawei/data/33_math/ds04/ 33\n",
      "(5463,)\n",
      "added:  /home/user/common/dsukhinin/eeg3/Huawei/data/34_math/ds04/ 34\n",
      "(5448,)\n",
      "added:  /home/user/common/dsukhinin/eeg3/Huawei/data/35_math/ds04/ 35\n",
      "(5454,)\n",
      "added:  /home/user/common/dsukhinin/eeg3/Huawei/data/36_math/ds04/ 36\n",
      "(5482,)\n",
      "added:  /home/user/common/dsukhinin/eeg3/Huawei/data/37_math/ds04/ 37\n",
      "(5376,)\n",
      "added:  /home/user/common/dsukhinin/eeg3/Huawei/data/38_math/ds04/ 38\n",
      "(5682,)\n",
      "added:  /home/user/common/dsukhinin/eeg3/Huawei/data/39_math/ds04/ 39\n",
      "(5490,)\n",
      "added:  /home/user/common/dsukhinin/eeg3/Huawei/data/40_math/ds04/ 40\n",
      "(5443,)\n",
      "added:  /home/user/common/dsukhinin/eeg3/Huawei/data/41_math/ds04/ 41\n",
      "(5442,)\n",
      "added:  /home/user/common/dsukhinin/eeg3/Huawei/data/42_math/ds04/ 42\n",
      "(5467,)\n",
      "added:  /home/user/common/dsukhinin/eeg3/Huawei/data/43_math/ds04/ 43\n",
      "(5505,)\n",
      "added:  /home/user/common/dsukhinin/eeg3/Huawei/data/44_math/ds04/ 44\n"
     ]
    },
    {
     "data": {
      "text/plain": [
       "0"
      ]
     },
     "execution_count": 3,
     "metadata": {},
     "output_type": "execute_result"
    }
   ],
   "source": [
    "# select subjects to process\n",
    "subjects = [i for i in range(25, 45)]\n",
    "\n",
    "# select dataset variant (same as step 2)\n",
    "ds = 'ds01'\n",
    "    \n",
    "tgt = os.path.join(os.getcwd(), 'data/ds04_25-44_mix/')\n",
    "\n",
    "if not os.path.exists(tgt):\n",
    "    os.makedirs(tgt, exist_ok=False)\n",
    "    \n",
    "    \n",
    "make_ds(subjects, ds, tgt)"
   ]
  },
  {
   "cell_type": "code",
   "execution_count": 5,
   "id": "8ac60108-33a3-438f-a6bc-553233c07993",
   "metadata": {},
   "outputs": [
    {
     "name": "stdout",
     "output_type": "stream",
     "text": [
      "['x_31_3004.npy', 'x_35_2308.npy', 'x_25_3444.npy', 'x_37_1318.npy', 'x_44_1202.npy', 'x_28_1170.npy', 'x_42_4194.npy', 'x_41_3521.npy', 'x_41_3874.npy', 'x_38_3117.npy']\n"
     ]
    }
   ],
   "source": [
    "print(fls[:10])"
   ]
  }
 ],
 "metadata": {
  "kernelspec": {
   "display_name": "Python 3 (ipykernel)",
   "language": "python",
   "name": "python3"
  },
  "language_info": {
   "codemirror_mode": {
    "name": "ipython",
    "version": 3
   },
   "file_extension": ".py",
   "mimetype": "text/x-python",
   "name": "python",
   "nbconvert_exporter": "python",
   "pygments_lexer": "ipython3",
   "version": "3.10.8"
  }
 },
 "nbformat": 4,
 "nbformat_minor": 5
}
